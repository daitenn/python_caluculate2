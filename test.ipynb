{
 "cells": [
  {
   "cell_type": "markdown",
   "metadata": {},
   "source": [
    "##重回帰分析で求まる最適なパラメータである\n"
   ]
  },
  {
   "cell_type": "markdown",
   "metadata": {},
   "source": [
    "$${\\bf w} = ({\\bf X}^{\\rm T}{\\bf X})^{-1}{\\bf X}^{\\rm T}{\\bf t}$$"
   ]
  },
  {
   "cell_type": "markdown",
   "metadata": {},
   "source": [
    "を用いて、与えられたサンプルデータに対するパラメータの値を分析してみる。"
   ]
  },
  {
   "cell_type": "markdown",
   "metadata": {},
   "source": [
    "##まずは以下の行列とベクトルを定義する。"
   ]
  },
  {
   "cell_type": "markdown",
   "metadata": {},
   "source": [
    "$$\n",
    "{\\bf X} =\n",
    "\\begin{bmatrix}\n",
    "1 & 3 \\\\\n",
    "2 & 4 \\\\ \n",
    "5 & 6\n",
    "\\end{bmatrix},\\\n",
    "{\\bf t} = \n",
    "\\begin{bmatrix}\n",
    "1 \\\\ 2 \\\\ 7\n",
    "\\end{bmatrix}\n",
    "$$"
   ]
  },
  {
   "cell_type": "markdown",
   "metadata": {},
   "source": [
    "##そして$$y = 3x_{1} - 2x_{2} + 4$$が理想的なモデルと想定して、"
   ]
  },
  {
   "cell_type": "markdown",
   "metadata": {},
   "source": [
    "## $$w_{1} = 3,\\ w_{2} = -2,\\ b = 4$$のパラメータが求まることを目指します。"
   ]
  },
  {
   "cell_type": "code",
   "execution_count": null,
   "metadata": {},
   "outputs": [],
   "source": [
    "import numpy as np"
   ]
  }
 ],
 "metadata": {
  "language_info": {
   "name": "python"
  },
  "orig_nbformat": 4
 },
 "nbformat": 4,
 "nbformat_minor": 2
}
